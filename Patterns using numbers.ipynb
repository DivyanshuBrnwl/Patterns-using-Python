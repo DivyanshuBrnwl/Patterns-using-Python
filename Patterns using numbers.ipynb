{
 "cells": [
  {
   "cell_type": "code",
   "execution_count": null,
   "id": "2bd5d728",
   "metadata": {},
   "outputs": [],
   "source": []
  },
  {
   "cell_type": "code",
   "execution_count": 26,
   "id": "546ad8a3",
   "metadata": {},
   "outputs": [
    {
     "name": "stdout",
     "output_type": "stream",
     "text": [
      "\n",
      "5 \n",
      "5 4 \n",
      "5 4 3 \n",
      "5 4 3 2 \n",
      "5 4 3 2 1 \n"
     ]
    }
   ],
   "source": [
    "n = 5\n",
    "for i in range(n+1):\n",
    "    n = 5\n",
    "    for j in range(i):\n",
    "        print(n, end = \" \")\n",
    "        n -= 1\n",
    "    print()"
   ]
  },
  {
   "cell_type": "markdown",
   "id": "1c557204",
   "metadata": {},
   "source": [
    "### Write a python program to print following number pattern: "
   ]
  },
  {
   "cell_type": "code",
   "execution_count": 27,
   "id": "de04fdbd",
   "metadata": {},
   "outputs": [
    {
     "name": "stdout",
     "output_type": "stream",
     "text": [
      "1 \n",
      "2 2 \n",
      "3 3 3 \n",
      "4 4 4 4 \n",
      "5 5 5 5 5 \n"
     ]
    }
   ],
   "source": [
    "n = 5 \n",
    "a=1\n",
    "for i in range(n):\n",
    "    for j in range(i+1):\n",
    "        print(a, end = \" \")\n",
    "    a = a + 1\n",
    "    print()"
   ]
  },
  {
   "cell_type": "markdown",
   "id": "05a41dcc",
   "metadata": {},
   "source": [
    "###  Write a python program to print following number pattern: "
   ]
  },
  {
   "cell_type": "code",
   "execution_count": 16,
   "id": "2f504147",
   "metadata": {},
   "outputs": [
    {
     "name": "stdout",
     "output_type": "stream",
     "text": [
      "1 1 1 1 1 \n",
      "  2 2 2 2 \n",
      "    3 3 3 \n",
      "      4 4 \n",
      "        5 \n"
     ]
    }
   ],
   "source": [
    "n = 5\n",
    "a = 1\n",
    "for i in range(n):\n",
    "    for j in range(i):\n",
    "        print(\" \", end = \" \")\n",
    "    for j in range(i, n):\n",
    "        print(a, end = \" \")\n",
    "    a +=1\n",
    "    print()"
   ]
  },
  {
   "cell_type": "markdown",
   "id": "2ad3c7ab",
   "metadata": {},
   "source": [
    "### Write a python program to print following number pattern: "
   ]
  },
  {
   "cell_type": "code",
   "execution_count": 31,
   "id": "96f86f99",
   "metadata": {},
   "outputs": [
    {
     "name": "stdout",
     "output_type": "stream",
     "text": [
      "5 \n",
      "4 4 \n",
      "3 3 3 \n",
      "2 2 2 2 \n",
      "1 1 1 1 1 \n"
     ]
    }
   ],
   "source": [
    "n = 5\n",
    "a = 5\n",
    "for i in range(n):\n",
    "    for j in range(i+1):\n",
    "        print(a, end =\" \")\n",
    "    a -= 1\n",
    "    print()"
   ]
  },
  {
   "cell_type": "markdown",
   "id": "6484e196",
   "metadata": {},
   "source": [
    "### Write a python program to print following number pattern: "
   ]
  },
  {
   "cell_type": "code",
   "execution_count": 35,
   "id": "e62e4c46",
   "metadata": {},
   "outputs": [
    {
     "name": "stdout",
     "output_type": "stream",
     "text": [
      "0 \n",
      "2 2 \n",
      "4 4 4 \n",
      "6 6 6 6 \n",
      "8 8 8 8 8 \n"
     ]
    }
   ],
   "source": [
    "n = 5\n",
    "a = 0\n",
    "for i in range(n):\n",
    "    for j in range(i+1):\n",
    "        print(a, end = \" \")\n",
    "    a +=2\n",
    "    print()"
   ]
  },
  {
   "cell_type": "markdown",
   "id": "d3d059bb",
   "metadata": {},
   "source": [
    "### Write a python program to print following Hill pattern: "
   ]
  },
  {
   "cell_type": "code",
   "execution_count": 24,
   "id": "cd936063",
   "metadata": {},
   "outputs": [
    {
     "name": "stdout",
     "output_type": "stream",
     "text": [
      "        1 \n",
      "      2 2 2 \n",
      "    3 3 3 3 3 \n",
      "  4 4 4 4 4 4 4 \n",
      "5 5 5 5 5 5 5 5 5 \n"
     ]
    }
   ],
   "source": [
    "n = 5\n",
    "a = 1\n",
    "for i in range(n):\n",
    "    for j in range(i, n-1):\n",
    "        print(\" \", end = \" \")\n",
    "    for j in range(i+1):\n",
    "        print(a, end = \" \")\n",
    "    for j in range(i):\n",
    "        print(a, end = \" \")  \n",
    "    a+=1\n",
    "    print()"
   ]
  },
  {
   "cell_type": "markdown",
   "id": "dbd1896f",
   "metadata": {},
   "source": [
    "### Write a python program to print following number pattern: "
   ]
  },
  {
   "cell_type": "code",
   "execution_count": 38,
   "id": "aa8a5dae",
   "metadata": {},
   "outputs": [
    {
     "name": "stdout",
     "output_type": "stream",
     "text": [
      "1 \n",
      "2 2 \n",
      "1 1 1 \n",
      "2 2 2 2 \n",
      "1 1 1 1 1 \n"
     ]
    }
   ],
   "source": [
    "n = 5\n",
    "a = 1\n",
    "for i in range(n):\n",
    "    for j in range(i+1):\n",
    "        print(a, end = \" \")\n",
    "    if a==1:\n",
    "        a=2\n",
    "    else:\n",
    "        a=1\n",
    "    print()\n",
    "    "
   ]
  },
  {
   "cell_type": "markdown",
   "id": "68457c97",
   "metadata": {},
   "source": [
    "### Write a python program to print following pattern:¶"
   ]
  },
  {
   "cell_type": "code",
   "execution_count": 39,
   "id": "2dd48f97",
   "metadata": {},
   "outputs": [
    {
     "name": "stdout",
     "output_type": "stream",
     "text": [
      "# # # # # \n",
      "  $ $ $ $ \n",
      "    # # # \n",
      "      $ $ \n",
      "        # \n"
     ]
    }
   ],
   "source": [
    "n = 5\n",
    "a = '#'\n",
    "for i in range(n):\n",
    "    for j in range(i):\n",
    "        print(\" \", end = \" \")\n",
    "    for j in range(i, n):\n",
    "        print(a, end = \" \")\n",
    "    if a=='#':\n",
    "        a='$'\n",
    "    else:\n",
    "        a=\"#\"\n",
    "    print()"
   ]
  },
  {
   "cell_type": "markdown",
   "id": "ea356bec",
   "metadata": {},
   "source": [
    "### Write a python program to print following pattern:¶"
   ]
  },
  {
   "cell_type": "code",
   "execution_count": 50,
   "id": "43889b09",
   "metadata": {},
   "outputs": [
    {
     "name": "stdout",
     "output_type": "stream",
     "text": [
      "          a \n",
      "        b b b \n",
      "      a a a a a \n",
      "    b b b b b b b \n",
      "  a a a a a a a a a \n"
     ]
    }
   ],
   "source": [
    "n = 5\n",
    "p = 'a'\n",
    "for i in range(n):\n",
    "    for j in range(i, n):\n",
    "        print(\" \", end = \" \")\n",
    "    for j in range(i+1):\n",
    "        print(p, end = ' ')\n",
    "    for j in range(i):\n",
    "        print(p, end = \" \")\n",
    "    if p=='a':\n",
    "        p='b'\n",
    "    else:\n",
    "        p=\"a\"\n",
    "    print()"
   ]
  },
  {
   "cell_type": "markdown",
   "id": "01a27736",
   "metadata": {},
   "source": [
    "### Write a python program to print following number pattern:¶"
   ]
  },
  {
   "cell_type": "code",
   "execution_count": 54,
   "id": "5220803b",
   "metadata": {},
   "outputs": [
    {
     "name": "stdout",
     "output_type": "stream",
     "text": [
      "1 1 1 1 1 1 1 1 1 \n",
      "  0 0 0 0 0 0 0 \n",
      "    1 1 1 1 1 \n",
      "      0 0 0 \n",
      "        1 \n"
     ]
    }
   ],
   "source": [
    "n = 5\n",
    "a = 1\n",
    "for i in range(n):\n",
    "    for j in range(i):\n",
    "        print(\" \", end = \" \")\n",
    "    for j in range(i, n):\n",
    "        print(a, end = \" \")\n",
    "    for j in range(i, n-1):\n",
    "        print(a, end = \" \")\n",
    "    if a == 1:\n",
    "        a = 0\n",
    "    else:\n",
    "        a = 1\n",
    "    print()"
   ]
  },
  {
   "cell_type": "markdown",
   "id": "8fe748ed",
   "metadata": {},
   "source": [
    "### Write a python program to print following number pattern:¶"
   ]
  },
  {
   "cell_type": "code",
   "execution_count": 134,
   "id": "b714aee8",
   "metadata": {},
   "outputs": [
    {
     "name": "stdout",
     "output_type": "stream",
     "text": [
      "        1 \n",
      "      2 2 2 \n",
      "    3 3 3 3 3 \n",
      "  4 4 4 4 4 4 4 \n",
      "5 5 5 5 5 5 5 5 5 \n",
      "  6 6 6 6 6 6 6 \n",
      "    7 7 7 7 7 \n",
      "      8 8 8 \n",
      "        9 \n"
     ]
    }
   ],
   "source": [
    "n = 4\n",
    "a = 1\n",
    "for i in range(n+1):\n",
    "    for j in range(i, n):\n",
    "        print(\" \", end = \" \")\n",
    "    for j in range(i+1):\n",
    "        print(a, end = \" \")\n",
    "    for j in range(i):\n",
    "        print(a, end = \" \")\n",
    "    a += 1\n",
    "    print()\n",
    "for i in range(1, n+1):\n",
    "    for j in range(0, i):\n",
    "        print(\" \", end = \" \")\n",
    "    for j in range(i, n+1):\n",
    "        print(a, end = \" \")\n",
    "    for j in range(i, n):\n",
    "        print(a, end = \" \")\n",
    "    a +=1\n",
    "    print()"
   ]
  },
  {
   "cell_type": "markdown",
   "id": "b2489ae0",
   "metadata": {},
   "source": [
    "### Write a python program to print following number pattern:¶"
   ]
  },
  {
   "cell_type": "code",
   "execution_count": 169,
   "id": "1d02a762",
   "metadata": {},
   "outputs": [
    {
     "name": "stdout",
     "output_type": "stream",
     "text": [
      "          1 \n",
      "        2 2 2 \n",
      "      3 3 3 3 3 \n",
      "    4 4 4 4 4 4 4 \n",
      "  5 5 5 5 5 5 5 5 5 \n",
      "    4 4 4 4 4 4 4 \n",
      "      3 3 3 3 3 \n",
      "        2 2 2 \n",
      "          1 \n"
     ]
    }
   ],
   "source": [
    "n = 5\n",
    "a = 1\n",
    "for i in range(n-1):\n",
    "    for j in range(i, n):\n",
    "        print(\" \", end = \" \")\n",
    "    for j in range(i):\n",
    "        print(a, end = \" \")\n",
    "    for j in range(i+1):\n",
    "        print(a, end = \" \")\n",
    "    a+=1\n",
    "    print()\n",
    "    \n",
    "for i in range(n):\n",
    "    for j in range(i+1):\n",
    "        print(\" \", end = \" \")\n",
    "    for j in range(i, n-1):\n",
    "        print(a, end = \" \")\n",
    "    for j in range(i, n):\n",
    "        print(a, end = \" \")\n",
    "    a -= 1\n",
    "    print()"
   ]
  },
  {
   "cell_type": "markdown",
   "id": "98cf5362",
   "metadata": {},
   "source": [
    "### Write a python program to print following number pattern:¶"
   ]
  },
  {
   "cell_type": "code",
   "execution_count": 175,
   "id": "744a5dd7",
   "metadata": {},
   "outputs": [
    {
     "name": "stdout",
     "output_type": "stream",
     "text": [
      "1 \n",
      "1 2 \n",
      "1 2 3 \n",
      "1 2 3 4 \n",
      "1 2 3 4 5 \n"
     ]
    }
   ],
   "source": [
    "n = 5\n",
    "for i in range(n):\n",
    "    a = 1\n",
    "    for j in range(i+1):\n",
    "        print(a, end = \" \")\n",
    "        a+=1\n",
    "    print()"
   ]
  },
  {
   "cell_type": "markdown",
   "id": "9b5f9dc9",
   "metadata": {},
   "source": [
    "### Write a python program to print following number pattern:¶"
   ]
  },
  {
   "cell_type": "code",
   "execution_count": 178,
   "id": "ee4bb0a7",
   "metadata": {},
   "outputs": [
    {
     "name": "stdout",
     "output_type": "stream",
     "text": [
      "1 2 3 4 5 \n",
      "  1 2 3 4 \n",
      "    1 2 3 \n",
      "      1 2 \n",
      "        1 \n"
     ]
    }
   ],
   "source": [
    "# ME\n",
    "n = 5\n",
    "for i in range(n):\n",
    "    a = 1\n",
    "    for j in range(i):\n",
    "        print(\" \", end = \" \")\n",
    "    for j in range(i, n):\n",
    "        print(a, end = \" \")\n",
    "        a+=1\n",
    "    print()"
   ]
  },
  {
   "cell_type": "markdown",
   "id": "ff0b53b2",
   "metadata": {},
   "source": [
    "### Write a python program to print following number pattern:¶"
   ]
  },
  {
   "cell_type": "code",
   "execution_count": 204,
   "id": "282669e5",
   "metadata": {},
   "outputs": [
    {
     "name": "stdout",
     "output_type": "stream",
     "text": [
      "          1 \n",
      "        1 2 3 \n",
      "      1 2 3 4 5 \n",
      "    1 2 3 4 5 6 7 \n",
      "  1 2 3 4 5 6 7 8 9 \n"
     ]
    }
   ],
   "source": [
    "n = 5\n",
    "for i in range(n):\n",
    "    a = 1\n",
    "    for j in range(i, n):\n",
    "        print(\" \", end = \" \")\n",
    "    for j in range(i):\n",
    "        print(a, end = \" \")\n",
    "        a+=1\n",
    "    for j in range(i+1):\n",
    "        print(a, end = \" \")\n",
    "        a += 1\n",
    "    print()"
   ]
  },
  {
   "cell_type": "markdown",
   "id": "16a52bb3",
   "metadata": {},
   "source": [
    "### Write a python program to print following number pattern:¶"
   ]
  },
  {
   "cell_type": "code",
   "execution_count": 228,
   "id": "4ddf0098",
   "metadata": {},
   "outputs": [
    {
     "name": "stdout",
     "output_type": "stream",
     "text": [
      "          1 \n",
      "        1 2 3 \n",
      "      1 2 3 4 5 \n",
      "    1 2 3 4 5 6 7 \n",
      "  1 2 3 4 5 6 7 8 9 \n",
      "    1 2 3 4 5 6 7 \n",
      "      1 2 3 4 5 \n",
      "        1 2 3 \n",
      "          1 \n"
     ]
    }
   ],
   "source": [
    "n = 5\n",
    "for i in range(n-1):\n",
    "    a=1\n",
    "    for j in range(i, n):\n",
    "        print(\" \", end = \" \")\n",
    "    for j in range(i+1):\n",
    "        print(a, end = \" \")\n",
    "        a+=1\n",
    "    for j in range(i):\n",
    "        print(a, end = \" \")\n",
    "        a+=1\n",
    "    print()\n",
    "for i in range(n):\n",
    "    a=1\n",
    "    for j in range(i+1):\n",
    "        print(\" \", end = \" \")\n",
    "    for j in range(i, n-1):\n",
    "        print(a, end =\" \")\n",
    "        a+=1\n",
    "    for j in range(i, n):\n",
    "        print(a, end = \" \")\n",
    "        a+=1\n",
    "    print()"
   ]
  },
  {
   "cell_type": "markdown",
   "id": "a416098f",
   "metadata": {},
   "source": [
    "### Write a python program to print following number pattern:¶"
   ]
  },
  {
   "cell_type": "code",
   "execution_count": 238,
   "id": "454c2c47",
   "metadata": {},
   "outputs": [
    {
     "name": "stdout",
     "output_type": "stream",
     "text": [
      "5 \n",
      "5 4 \n",
      "5 4 3 \n",
      "5 4 3 2 \n",
      "5 4 3 2 1 \n"
     ]
    }
   ],
   "source": [
    "n = 5\n",
    "for i in range(n):\n",
    "    a=n\n",
    "    for j in range(i+1):\n",
    "        print(a, end = \" \")\n",
    "        a-=1\n",
    "    print()"
   ]
  },
  {
   "cell_type": "markdown",
   "id": "dc6bd16d",
   "metadata": {},
   "source": [
    "#  I found it difficult among all above patterns"
   ]
  },
  {
   "cell_type": "code",
   "execution_count": 255,
   "id": "5bd554f7",
   "metadata": {},
   "outputs": [
    {
     "name": "stdout",
     "output_type": "stream",
     "text": [
      "5 4 3 2 1 \n",
      "  4 3 2 1 \n",
      "    3 2 1 \n",
      "      2 1 \n",
      "        1 \n"
     ]
    }
   ],
   "source": [
    "n = 5\n",
    "k = 5\n",
    "for i in range(n):\n",
    "    a = k\n",
    "    for j in range(i):\n",
    "        print(' ', end = \" \")\n",
    "    for j in range(i, n):\n",
    "        print(a, end = \" \")\n",
    "        a-=1\n",
    "    k-=1\n",
    "    print()"
   ]
  },
  {
   "cell_type": "markdown",
   "id": "d3a97d0c",
   "metadata": {},
   "source": [
    "### Write a python program to print following number pattern:¶"
   ]
  },
  {
   "cell_type": "code",
   "execution_count": 276,
   "id": "a2d4a1af",
   "metadata": {},
   "outputs": [
    {
     "name": "stdout",
     "output_type": "stream",
     "text": [
      "          1 \n",
      "        1 2 1 \n",
      "      1 2 3 2 1 \n",
      "    1 2 3 4 3 2 1 \n",
      "  1 2 3 4 5 4 3 2 1 \n"
     ]
    }
   ],
   "source": [
    "n = 5 \n",
    "for i in range(n):\n",
    "    p=1\n",
    "    for j in range(i, n):\n",
    "        print(\" \", end = \" \")\n",
    "    for j in range(i):\n",
    "        print(p, end = \" \")\n",
    "        p+=1\n",
    "    for j in range(i+1):\n",
    "        print(p, end = \" \")\n",
    "        p-=1\n",
    "    print()"
   ]
  },
  {
   "cell_type": "markdown",
   "id": "ecd8aa71",
   "metadata": {},
   "source": [
    "### Write a python program to print Floyd Triangle pattern:"
   ]
  },
  {
   "cell_type": "code",
   "execution_count": 279,
   "id": "1db98d09",
   "metadata": {},
   "outputs": [
    {
     "name": "stdout",
     "output_type": "stream",
     "text": [
      "\n",
      "1 \n",
      "2 3 \n",
      "4 5 6 \n",
      "7 8 9 10 \n"
     ]
    }
   ],
   "source": [
    "n = 5\n",
    "a=1\n",
    "for i in range(n):\n",
    "    for j in range(i):\n",
    "        print(a, end = \" \")\n",
    "        a+=1\n",
    "    print()"
   ]
  },
  {
   "cell_type": "code",
   "execution_count": null,
   "id": "c3732752",
   "metadata": {},
   "outputs": [],
   "source": []
  }
 ],
 "metadata": {
  "kernelspec": {
   "display_name": "Python 3 (ipykernel)",
   "language": "python",
   "name": "python3"
  },
  "language_info": {
   "codemirror_mode": {
    "name": "ipython",
    "version": 3
   },
   "file_extension": ".py",
   "mimetype": "text/x-python",
   "name": "python",
   "nbconvert_exporter": "python",
   "pygments_lexer": "ipython3",
   "version": "3.9.12"
  }
 },
 "nbformat": 4,
 "nbformat_minor": 5
}
