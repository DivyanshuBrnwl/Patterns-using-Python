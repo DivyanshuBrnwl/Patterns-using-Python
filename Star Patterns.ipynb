{
 "cells": [
  {
   "cell_type": "markdown",
   "id": "5cf9e9a6",
   "metadata": {},
   "source": [
    "### Program to print square using python"
   ]
  },
  {
   "cell_type": "code",
   "execution_count": 12,
   "id": "041bc3ec",
   "metadata": {},
   "outputs": [
    {
     "name": "stdout",
     "output_type": "stream",
     "text": [
      "* * * * * \n",
      "* * * * * \n",
      "* * * * * \n",
      "* * * * * \n",
      "* * * * * \n"
     ]
    }
   ],
   "source": [
    "for i in range(1, 6):\n",
    "    for j in range(6, 1, -1):\n",
    "        print(\"*\", end = \" \")\n",
    "    print()"
   ]
  },
  {
   "cell_type": "markdown",
   "id": "e2ca261c",
   "metadata": {},
   "source": [
    "### Program to print right downward triangle in python"
   ]
  },
  {
   "cell_type": "code",
   "execution_count": 17,
   "id": "aa2b98aa",
   "metadata": {},
   "outputs": [
    {
     "name": "stdout",
     "output_type": "stream",
     "text": [
      "* * * * * * \n",
      "* * * * * \n",
      "* * * * \n",
      "* * * \n",
      "* * \n",
      "* \n"
     ]
    }
   ],
   "source": [
    "n = 7\n",
    "for i in range(1, n):\n",
    "    for j in range(i, n):\n",
    "        print(\"*\", end = \" \")\n",
    "    print()"
   ]
  },
  {
   "cell_type": "markdown",
   "id": "35131016",
   "metadata": {},
   "source": [
    "### Program to print right triangle in python"
   ]
  },
  {
   "cell_type": "code",
   "execution_count": 18,
   "id": "214691e3",
   "metadata": {},
   "outputs": [
    {
     "name": "stdout",
     "output_type": "stream",
     "text": [
      "* \n",
      "* * \n",
      "* * * \n",
      "* * * * \n",
      "* * * * * \n",
      "* * * * * * \n"
     ]
    }
   ],
   "source": [
    "n = 7 \n",
    "for i in range(1, n):\n",
    "    for j in range(i):\n",
    "        print(\"*\", end = \" \")\n",
    "    print()"
   ]
  },
  {
   "cell_type": "markdown",
   "id": "6e1c467e",
   "metadata": {},
   "source": [
    "### Program to print left triangle in python"
   ]
  },
  {
   "cell_type": "code",
   "execution_count": 26,
   "id": "98ab05a7",
   "metadata": {},
   "outputs": [
    {
     "name": "stdout",
     "output_type": "stream",
     "text": [
      "            * \n",
      "          * * \n",
      "        * * * \n",
      "      * * * * \n",
      "    * * * * * \n",
      "  * * * * * * \n",
      "* * * * * * * \n"
     ]
    }
   ],
   "source": [
    "n = 7\n",
    "for i in range(1, n+1):\n",
    "    for j in range(i, n):\n",
    "        print(\" \", end = \" \")\n",
    "    for k in range(i):\n",
    "        print(\"*\", end = \" \")\n",
    "    print()"
   ]
  },
  {
   "cell_type": "markdown",
   "id": "d6c91456",
   "metadata": {},
   "source": [
    "### Program to print hill in python"
   ]
  },
  {
   "cell_type": "code",
   "execution_count": 36,
   "id": "6e2ab84c",
   "metadata": {},
   "outputs": [
    {
     "name": "stdout",
     "output_type": "stream",
     "text": [
      "      *\n",
      "     ***\n",
      "    *****\n",
      "   *******\n",
      "  *********\n",
      " ***********\n",
      "*************\n"
     ]
    }
   ],
   "source": [
    "n = 7 \n",
    "for i in range(1, n+1):\n",
    "    for j in range(i, n):\n",
    "        print(' ', end = \"\")\n",
    "    for k in range(i):\n",
    "        print(\"*\", end = \"\")\n",
    "    for k in range(i-1):\n",
    "        print(\"*\", end = \"\")\n",
    "    print()\n",
    "    "
   ]
  },
  {
   "cell_type": "markdown",
   "id": "d9cce1cc",
   "metadata": {},
   "source": [
    "### Program to print Double hill in python"
   ]
  },
  {
   "cell_type": "code",
   "execution_count": 42,
   "id": "3b191d63",
   "metadata": {},
   "outputs": [
    {
     "name": "stdout",
     "output_type": "stream",
     "text": [
      "      *          *\n",
      "     ***        ***\n",
      "    *****      *****\n",
      "   *******    *******\n",
      "  *********  *********\n",
      " **********************\n"
     ]
    }
   ],
   "source": [
    "n = 7\n",
    "for i in range(1, n):\n",
    "    for j in range(i, n):\n",
    "        print(\" \", end = '')\n",
    "    for k in range(i):\n",
    "        print('*',end = '')\n",
    "    for k in range(i-1):\n",
    "        print('*', end = '')\n",
    "    for j in range(i, n-1):\n",
    "        print(\" \", end = '')\n",
    "    for j in range(i, n-1):\n",
    "        print(\" \", end = '')\n",
    "    for k in range(i):\n",
    "        print('*',end = '')\n",
    "    for k in range(i-1):\n",
    "        print('*', end = '')\n",
    "    \n",
    "    print()"
   ]
  },
  {
   "cell_type": "markdown",
   "id": "746164dc",
   "metadata": {},
   "source": [
    "### Program to print Double Downward hill in python"
   ]
  },
  {
   "cell_type": "code",
   "execution_count": 48,
   "id": "7ed678e0",
   "metadata": {},
   "outputs": [
    {
     "name": "stdout",
     "output_type": "stream",
     "text": [
      " ***********  ***********\n",
      "  *********    *********\n",
      "   *******      *******\n",
      "    *****        *****\n",
      "     ***          ***\n",
      "      *            *\n"
     ]
    }
   ],
   "source": [
    "n = 7\n",
    "for i in range(1, n):\n",
    "    for j in range(i):\n",
    "        print(\" \", end = '')\n",
    "    for j in range(i, n):\n",
    "        print('*', end = '')\n",
    "    for j in range(i, n-1):\n",
    "        print('*', end = '')\n",
    "    for j in range(i*2):\n",
    "        print(\" \", end = '')\n",
    "    for j in range(i, n):\n",
    "        print('*', end = '')\n",
    "    for j in range(i, n-1):\n",
    "        print('*', end = '')\n",
    "    print()"
   ]
  },
  {
   "cell_type": "markdown",
   "id": "27429066",
   "metadata": {},
   "source": [
    "### Program to print downward arrow in python"
   ]
  },
  {
   "cell_type": "code",
   "execution_count": 54,
   "id": "4af91e0c",
   "metadata": {},
   "outputs": [
    {
     "name": "stdout",
     "output_type": "stream",
     "text": [
      "  * * * * * * * * * * * * * \n",
      "    * * * * * * * * * * * \n",
      "      * * * * * * * * * \n",
      "        * * * * * * * \n",
      "          * * * * * \n",
      "            * * * \n",
      "              * \n",
      "  * * * * * * * * * * * * * \n",
      "    * * * * * * * * * * * \n",
      "      * * * * * * * * * \n",
      "        * * * * * * * \n",
      "          * * * * * \n",
      "            * * * \n",
      "              * \n"
     ]
    }
   ],
   "source": [
    "n = 7\n",
    "for i in range(1, n+1):\n",
    "    for j in range(i):\n",
    "        print(\" \", end = \" \")\n",
    "    for j in range(i, n+1):\n",
    "        print(\"*\",end = \" \")\n",
    "    for j in range(i, n):\n",
    "        print(\"*\",end = \" \")\n",
    "    print()\n",
    "for i in range(1, n+1):\n",
    "    for j in range(i):\n",
    "        print(\" \", end = \" \")\n",
    "    for j in range(i, n+1):\n",
    "        print(\"*\",end = \" \")\n",
    "    for j in range(i, n):\n",
    "        print(\"*\",end = \" \")\n",
    "    print()"
   ]
  },
  {
   "cell_type": "markdown",
   "id": "6aa9585e",
   "metadata": {},
   "source": [
    "### Program to print Sandglass in python"
   ]
  },
  {
   "cell_type": "code",
   "execution_count": 68,
   "id": "27e47ffd",
   "metadata": {},
   "outputs": [
    {
     "name": "stdout",
     "output_type": "stream",
     "text": [
      "  * * * * * * * * * * * * * \n",
      "    * * * * * * * * * * * \n",
      "      * * * * * * * * * \n",
      "        * * * * * * * \n",
      "          * * * * * \n",
      "            * * * \n",
      "              * \n",
      "              * \n",
      "            * * * \n",
      "          * * * * * \n",
      "        * * * * * * * \n",
      "      * * * * * * * * * \n",
      "    * * * * * * * * * * * \n",
      "  * * * * * * * * * * * * * \n"
     ]
    }
   ],
   "source": [
    "n = 7\n",
    "for i in range(1, n+1):\n",
    "    for j in range(i):\n",
    "        print(\" \", end = \" \")\n",
    "    for j in range(i, n+1):\n",
    "        print(\"*\",end = \" \")\n",
    "    for j in range(i, n):\n",
    "        print(\"*\",end = \" \")\n",
    "    print()\n",
    "for i in range(1, n+1):\n",
    "    for j in range(i, n+1):\n",
    "        print(\" \", end = \" \")\n",
    "    for j in range(i):\n",
    "        print(\"*\",end = \" \")\n",
    "    for j in range(i-1):\n",
    "        print(\"*\",end = \" \")\n",
    "    print()"
   ]
  },
  {
   "cell_type": "markdown",
   "id": "a02726a9",
   "metadata": {},
   "source": [
    "### Program to Diamond print  in python"
   ]
  },
  {
   "cell_type": "code",
   "execution_count": 84,
   "id": "9e0686ca",
   "metadata": {},
   "outputs": [
    {
     "name": "stdout",
     "output_type": "stream",
     "text": [
      "            * \n",
      "          * * * \n",
      "        * * * * * \n",
      "      * * * * * * * \n",
      "    * * * * * * * * * \n",
      "  * * * * * * * * * * * \n",
      "* * * * * * * * * * * * * \n",
      "  * * * * * * * * * * * \n",
      "    * * * * * * * * * \n",
      "      * * * * * * * \n",
      "        * * * * * \n",
      "          * * * \n",
      "            * \n"
     ]
    }
   ],
   "source": [
    "n = 7\n",
    "for i in range(1, n+1):\n",
    "    for j in range(i, n):\n",
    "        print(\" \", end = \" \")\n",
    "    for j in range(i):\n",
    "        print(\"*\",end = \" \")\n",
    "    for j in range(i-1):\n",
    "        print(\"*\",end = \" \")\n",
    "    print()\n",
    "    \n",
    "for i in range(1, n):\n",
    "    for i in range(i):\n",
    "        print(\" \", end = \" \")\n",
    "    for j in range(i, n-1):\n",
    "        print(\"*\", end = \" \")\n",
    "    for j in range(i, n-2):\n",
    "        print(\"*\", end = \" \")\n",
    "    print()"
   ]
  },
  {
   "cell_type": "markdown",
   "id": "aa7f9bdc",
   "metadata": {},
   "source": [
    "### Program to print Left Pascal in python"
   ]
  },
  {
   "cell_type": "code",
   "execution_count": 87,
   "id": "68e7f3dd",
   "metadata": {},
   "outputs": [
    {
     "name": "stdout",
     "output_type": "stream",
     "text": [
      "\n",
      "* \n",
      "* * \n",
      "* * * \n",
      "* * * * \n",
      "* * * * * \n",
      "* * * * \n",
      "* * * \n",
      "* * \n",
      "* \n"
     ]
    }
   ],
   "source": [
    "n = 5\n",
    "for i in range(n):\n",
    "    for j in range(i):\n",
    "        print(\"*\", end = \" \")\n",
    "    print()\n",
    "for i in range(n):\n",
    "    for j in range(i, n):\n",
    "        print(\"*\", end = \" \")\n",
    "    print()\n"
   ]
  },
  {
   "cell_type": "markdown",
   "id": "518cb4e4",
   "metadata": {},
   "source": [
    "### Program to print right Pascal in python"
   ]
  },
  {
   "cell_type": "code",
   "execution_count": 104,
   "id": "9b9837eb",
   "metadata": {},
   "outputs": [
    {
     "name": "stdout",
     "output_type": "stream",
     "text": [
      "          \n",
      "        * \n",
      "      * * \n",
      "    * * * \n",
      "  * * * * \n",
      "* * * * * \n",
      "  * * * * \n",
      "    * * * \n",
      "      * * \n",
      "        * \n"
     ]
    }
   ],
   "source": [
    "n  =5\n",
    "for i in range(n):\n",
    "    for j in range(i, n):\n",
    "        print(\" \", end = \" \")\n",
    "    for j in range(i):\n",
    "        print(\"*\", end = \" \")\n",
    "    print()\n",
    "for i in range(n):\n",
    "    for j in range(i):\n",
    "        print(\" \", end = \" \")\n",
    "    for j in range(i, n):\n",
    "        print(\"*\", end = \" \")\n",
    "    print()\n"
   ]
  },
  {
   "cell_type": "markdown",
   "id": "2b56597a",
   "metadata": {},
   "source": [
    "### Program to print Butterfly Left Pascal in python"
   ]
  },
  {
   "cell_type": "code",
   "execution_count": 119,
   "id": "3e71007d",
   "metadata": {},
   "outputs": [
    {
     "name": "stdout",
     "output_type": "stream",
     "text": [
      "                    \n",
      "*                 * \n",
      "* *             * * \n",
      "* * *         * * * \n",
      "* * * *     * * * * \n",
      "* * * * * * * * * * \n",
      "* * * *     * * * * \n",
      "* * *         * * * \n",
      "* *             * * \n",
      "*                 * \n"
     ]
    }
   ],
   "source": [
    "n = 5\n",
    "for i in range(n):\n",
    "    for j in range(i):\n",
    "        print(\"*\", end = \" \")\n",
    "    for j in range(i, n):\n",
    "        print(\" \", end = \" \")\n",
    "    for j in range(i, n):\n",
    "        print(\" \", end = \" \")\n",
    "    for j in range(i):\n",
    "        print(\"*\", end = \" \")\n",
    "    print()\n",
    "for i in range(n):\n",
    "    for j in range(i, n):\n",
    "        print(\"*\", end = \" \")\n",
    "    for j in range(i*2):\n",
    "        print(\" \", end = \" \")\n",
    "    for j in range(i, n):\n",
    "        print(\"*\", end = \" \")\n",
    "    print()"
   ]
  },
  {
   "cell_type": "code",
   "execution_count": null,
   "id": "3d23179e",
   "metadata": {},
   "outputs": [],
   "source": []
  },
  {
   "cell_type": "code",
   "execution_count": null,
   "id": "3ba269f4",
   "metadata": {},
   "outputs": [],
   "source": []
  }
 ],
 "metadata": {
  "kernelspec": {
   "display_name": "Python 3 (ipykernel)",
   "language": "python",
   "name": "python3"
  },
  "language_info": {
   "codemirror_mode": {
    "name": "ipython",
    "version": 3
   },
   "file_extension": ".py",
   "mimetype": "text/x-python",
   "name": "python",
   "nbconvert_exporter": "python",
   "pygments_lexer": "ipython3",
   "version": "3.9.12"
  }
 },
 "nbformat": 4,
 "nbformat_minor": 5
}
